{
 "cells": [
  {
   "cell_type": "markdown",
   "metadata": {},
   "source": [
    "# Problem 1 - Working with RDDs (5 points)\n",
    "\n",
    "This is an interactive PySpark session. Remember that when you open this notebook the `SparkContext` and `SparkSession` are already created, and they are in the `sc` and `spark` variables, respectively. You can run the following two cells to make sure that the Kernel is active.\n",
    "\n",
    "**Do not insert any additional cells than the ones that are provided.**"
   ]
  },
  {
   "cell_type": "code",
   "execution_count": 1,
   "metadata": {},
   "outputs": [
    {
     "data": {
      "text/html": [
       "\n",
       "        <div>\n",
       "            <p><b>SparkContext</b></p>\n",
       "\n",
       "            <p><a href=\"http://ip-172-31-72-212.ec2.internal:4040\">Spark UI</a></p>\n",
       "\n",
       "            <dl>\n",
       "              <dt>Version</dt>\n",
       "                <dd><code>v2.2.1</code></dd>\n",
       "              <dt>Master</dt>\n",
       "                <dd><code>yarn</code></dd>\n",
       "              <dt>AppName</dt>\n",
       "                <dd><code>PySparkShell</code></dd>\n",
       "            </dl>\n",
       "        </div>\n",
       "        "
      ],
      "text/plain": [
       "<SparkContext master=yarn appName=PySparkShell>"
      ]
     },
     "execution_count": 1,
     "metadata": {},
     "output_type": "execute_result"
    }
   ],
   "source": [
    "sc"
   ]
  },
  {
   "cell_type": "code",
   "execution_count": 2,
   "metadata": {},
   "outputs": [
    {
     "data": {
      "text/html": [
       "\n",
       "            <div>\n",
       "                <p><b>SparkSession - hive</b></p>\n",
       "                \n",
       "        <div>\n",
       "            <p><b>SparkContext</b></p>\n",
       "\n",
       "            <p><a href=\"http://ip-172-31-72-212.ec2.internal:4040\">Spark UI</a></p>\n",
       "\n",
       "            <dl>\n",
       "              <dt>Version</dt>\n",
       "                <dd><code>v2.2.1</code></dd>\n",
       "              <dt>Master</dt>\n",
       "                <dd><code>yarn</code></dd>\n",
       "              <dt>AppName</dt>\n",
       "                <dd><code>PySparkShell</code></dd>\n",
       "            </dl>\n",
       "        </div>\n",
       "        \n",
       "            </div>\n",
       "        "
      ],
      "text/plain": [
       "<pyspark.sql.session.SparkSession at 0x7fbb1ce3dcd0>"
      ]
     },
     "execution_count": 2,
     "metadata": {},
     "output_type": "execute_result"
    }
   ],
   "source": [
    "spark"
   ]
  },
  {
   "cell_type": "markdown",
   "metadata": {},
   "source": [
    "In the following cell, make an RDD called `top1m` that contains the contents of the file `top-1m.csv` that you placed into the cluster's HDFS."
   ]
  },
  {
   "cell_type": "code",
   "execution_count": 3,
   "metadata": {},
   "outputs": [],
   "source": [
    "top1m = sc.textFile(\"hdfs:///user/hadoop/top-1m.csv\")"
   ]
  },
  {
   "cell_type": "markdown",
   "metadata": {},
   "source": [
    "There is one element in the RDD for each line in the file. The `.count()` method will compute how many lines are in the file. In the following cell, type the expression to count the lines in the `top1m` RDD. Run the cell and see the result."
   ]
  },
  {
   "cell_type": "code",
   "execution_count": 8,
   "metadata": {},
   "outputs": [
    {
     "data": {
      "text/plain": [
       "1000000"
      ]
     },
     "execution_count": 8,
     "metadata": {},
     "output_type": "execute_result"
    }
   ],
   "source": [
    "top1m.count()"
   ]
  },
  {
   "cell_type": "markdown",
   "metadata": {},
   "source": [
    "## Count the `.com` domains\n",
    "\n",
    "How many of the websites in this RDD are in the .com domain?\n",
    "\n",
    "In the following cell, write a code snippet that finds the records with `.com` and counts them. (Hint: use a regular expression.)"
   ]
  },
  {
   "cell_type": "code",
   "execution_count": 6,
   "metadata": {},
   "outputs": [
    {
     "data": {
      "text/plain": [
       "defaultdict(int, {'with .com': 486317, 'without .com': 513683})"
      ]
     },
     "execution_count": 6,
     "metadata": {},
     "output_type": "execute_result"
    }
   ],
   "source": [
    "import re\n",
    "com_re = re.compile(\".*\\.com$\")\n",
    "\n",
    "def extract(line):\n",
    "    m = com_re.search(line)\n",
    "    if m:\n",
    "        return 'with .com'\n",
    "    else:\n",
    "        return 'without .com'\n",
    "\n",
    "Search = top1m.map(lambda x: (extract(x), 1))\n",
    "Search.countByKey()"
   ]
  },
  {
   "cell_type": "markdown",
   "metadata": {},
   "source": [
    "## Histogram the Top Level Domains (TLDs)\n",
    "\n",
    "What is the distribution of TLDs in the top 1 million websites? We can quickly compute this using the RDD function `countByValue()`."
   ]
  },
  {
   "cell_type": "markdown",
   "metadata": {},
   "source": [
    "In the following cell, write a function called `tld` (in Python) that takes a domain name string and outputs the top-level domain."
   ]
  },
  {
   "cell_type": "code",
   "execution_count": 4,
   "metadata": {},
   "outputs": [],
   "source": [
    "def tld(domain_name):\n",
    "    return domain_name.split('.')[-1]"
   ]
  },
  {
   "cell_type": "markdown",
   "metadata": {},
   "source": [
    "In the following cell, map the `top1m` RDD using `tld` into a new RDD called `tlds`. "
   ]
  },
  {
   "cell_type": "code",
   "execution_count": 5,
   "metadata": {},
   "outputs": [],
   "source": [
    "tlds = top1m.map(lambda line: tld(line))"
   ]
  },
  {
   "cell_type": "markdown",
   "metadata": {},
   "source": [
    "In the following two cells, evaluate `top1m.first()` and  `tlds.first()` to see if the first line of `top1m` transformed by `tld` is properly represented as the first line of `tlds`. "
   ]
  },
  {
   "cell_type": "code",
   "execution_count": 7,
   "metadata": {},
   "outputs": [
    {
     "data": {
      "text/plain": [
       "u'1,youtube.com'"
      ]
     },
     "execution_count": 7,
     "metadata": {},
     "output_type": "execute_result"
    }
   ],
   "source": [
    "top1m.first()"
   ]
  },
  {
   "cell_type": "code",
   "execution_count": 8,
   "metadata": {},
   "outputs": [
    {
     "data": {
      "text/plain": [
       "u'com'"
      ]
     },
     "execution_count": 8,
     "metadata": {},
     "output_type": "execute_result"
    }
   ],
   "source": [
    "tlds.first()"
   ]
  },
  {
   "cell_type": "markdown",
   "metadata": {},
   "source": [
    "Look at the first 50 elements of `top1m` by evaluating `top1m.take(50)`."
   ]
  },
  {
   "cell_type": "code",
   "execution_count": 9,
   "metadata": {},
   "outputs": [
    {
     "data": {
      "text/plain": [
       "[u'1,youtube.com',\n",
       " u'2,google.com',\n",
       " u'3,facebook.com',\n",
       " u'4,baidu.com',\n",
       " u'5,wikipedia.org',\n",
       " u'6,reddit.com',\n",
       " u'7,yahoo.com',\n",
       " u'8,google.co.in',\n",
       " u'9,qq.com',\n",
       " u'10,taobao.com',\n",
       " u'11,amazon.com',\n",
       " u'12,twitter.com',\n",
       " u'13,sohu.com',\n",
       " u'14,vk.com',\n",
       " u'15,instagram.com',\n",
       " u'16,tmall.com',\n",
       " u'17,google.co.jp',\n",
       " u'18,sina.com.cn',\n",
       " u'19,live.com',\n",
       " u'20,jd.com',\n",
       " u'21,weibo.com',\n",
       " u'22,360.cn',\n",
       " u'23,yandex.ru',\n",
       " u'24,google.co.uk',\n",
       " u'25,netflix.com',\n",
       " u'26,google.de',\n",
       " u'27,google.com.br',\n",
       " u'28,google.ru',\n",
       " u'29,twitch.tv',\n",
       " u'30,google.fr',\n",
       " u'31,pornhub.com',\n",
       " u'32,google.com.hk',\n",
       " u'33,login.tmall.com',\n",
       " u'34,xvideos.com',\n",
       " u'35,google.it',\n",
       " u'36,google.es',\n",
       " u'37,alipay.com',\n",
       " u'38,google.com.mx',\n",
       " u'39,yahoo.co.jp',\n",
       " u'40,bing.com',\n",
       " u'41,ebay.com',\n",
       " u'42,google.ca',\n",
       " u'43,ok.ru',\n",
       " u'44,csdn.net',\n",
       " u'45,t.co',\n",
       " u'46,microsoft.com',\n",
       " u'47,wikia.com',\n",
       " u'48,hao123.com',\n",
       " u'49,imdb.com',\n",
       " u'50,mail.ru']"
      ]
     },
     "execution_count": 9,
     "metadata": {},
     "output_type": "execute_result"
    }
   ],
   "source": [
    "top1m.take(50)"
   ]
  },
  {
   "cell_type": "markdown",
   "metadata": {},
   "source": [
    "Try the same thing with the `tlds` RDD to make sure that the first 50 lines were properly transformed.\n"
   ]
  },
  {
   "cell_type": "code",
   "execution_count": 10,
   "metadata": {},
   "outputs": [
    {
     "data": {
      "text/plain": [
       "[u'com',\n",
       " u'com',\n",
       " u'com',\n",
       " u'com',\n",
       " u'org',\n",
       " u'com',\n",
       " u'com',\n",
       " u'in',\n",
       " u'com',\n",
       " u'com',\n",
       " u'com',\n",
       " u'com',\n",
       " u'com',\n",
       " u'com',\n",
       " u'com',\n",
       " u'com',\n",
       " u'jp',\n",
       " u'cn',\n",
       " u'com',\n",
       " u'com',\n",
       " u'com',\n",
       " u'cn',\n",
       " u'ru',\n",
       " u'uk',\n",
       " u'com',\n",
       " u'de',\n",
       " u'br',\n",
       " u'ru',\n",
       " u'tv',\n",
       " u'fr',\n",
       " u'com',\n",
       " u'hk',\n",
       " u'com',\n",
       " u'com',\n",
       " u'it',\n",
       " u'es',\n",
       " u'com',\n",
       " u'mx',\n",
       " u'jp',\n",
       " u'com',\n",
       " u'com',\n",
       " u'ca',\n",
       " u'ru',\n",
       " u'net',\n",
       " u'co',\n",
       " u'com',\n",
       " u'com',\n",
       " u'com',\n",
       " u'com',\n",
       " u'ru']"
      ]
     },
     "execution_count": 10,
     "metadata": {},
     "output_type": "execute_result"
    }
   ],
   "source": [
    "tlds.take(50)"
   ]
  },
  {
   "cell_type": "markdown",
   "metadata": {},
   "source": [
    "At this point, `tlds.countByValue()` would give us a list of each TLD and the number of times that it appears in the top1m file. Note that this function returns the results as a `defaultDict` in the Python environemnt, not as an RDD. But we want it reverse sorted by count. To do this, we can set a variable called `tlds_and_counts` equal to `tlds.countByValue()` and then reverse the order, sort, and take the top 50, like this:\n",
    "\n",
    "```\n",
    "tlds_and_counts = tlds.countByValue()\n",
    "counts_and_tlds = [(count,domain) for (domain,count) in tlds_and_counts.items()]\n",
    "```\n",
    "\n",
    "In the following cell, run the code above to produce the Python Dictionary."
   ]
  },
  {
   "cell_type": "code",
   "execution_count": 11,
   "metadata": {},
   "outputs": [],
   "source": [
    "tlds_and_counts = tlds.countByValue()\n",
    "counts_and_tlds = [(count,domain) for (domain,count) in tlds_and_counts.items()]"
   ]
  },
  {
   "cell_type": "markdown",
   "metadata": {},
   "source": [
    "In the following cell, reverse sort `counts_and_tlds` and display the first 50."
   ]
  },
  {
   "cell_type": "code",
   "execution_count": 12,
   "metadata": {},
   "outputs": [
    {
     "data": {
      "text/plain": [
       "[(486317, u'com'),\n",
       " (49901, u'org'),\n",
       " (43522, u'ru'),\n",
       " (42822, u'net'),\n",
       " (33117, u'de'),\n",
       " (19368, u'br'),\n",
       " (18232, u'uk'),\n",
       " (15498, u'pl'),\n",
       " (15209, u'ir'),\n",
       " (11204, u'in'),\n",
       " (11150, u'fr'),\n",
       " (10471, u'it'),\n",
       " (9287, u'au'),\n",
       " (9072, u'info'),\n",
       " (8672, u'es'),\n",
       " (8046, u'cz'),\n",
       " (7592, u'nl'),\n",
       " (7082, u'jp'),\n",
       " (6421, u'mx'),\n",
       " (6248, u'co'),\n",
       " (5810, u'tw'),\n",
       " (5774, u'ua'),\n",
       " (5710, u'cn'),\n",
       " (5705, u'ca'),\n",
       " (5427, u'gr'),\n",
       " (5116, u'io'),\n",
       " (5010, u'eu'),\n",
       " (4877, u'se'),\n",
       " (4039, u'sk'),\n",
       " (3968, u'ch'),\n",
       " (3848, u'me'),\n",
       " (3730, u'tv'),\n",
       " (3652, u'hu'),\n",
       " (3619, u'kr'),\n",
       " (3338, u'no'),\n",
       " (3287, u'at'),\n",
       " (3251, u'us'),\n",
       " (3197, u'ar'),\n",
       " (3052, u'ro'),\n",
       " (3050, u'za'),\n",
       " (2978, u'id'),\n",
       " (2957, u'cl'),\n",
       " (2910, u'dk'),\n",
       " (2897, u'be'),\n",
       " (2887, u'edu'),\n",
       " (2638, u'vn'),\n",
       " (2265, u'biz'),\n",
       " (2233, u'pt'),\n",
       " (2222, u'tr'),\n",
       " (2151, u'fi')]"
      ]
     },
     "execution_count": 12,
     "metadata": {},
     "output_type": "execute_result"
    }
   ],
   "source": [
    "counts_and_tlds.sort(reverse=True)\n",
    "counts_and_tlds[:50]"
   ]
  },
  {
   "cell_type": "markdown",
   "metadata": {},
   "source": [
    "**Question:** `top1m.collect()[0:50]` and `top1m.take(50)` produce the same result. Which one is more efficient and why? Put your answer in the cell below."
   ]
  },
  {
   "cell_type": "code",
   "execution_count": null,
   "metadata": {},
   "outputs": [],
   "source": [
    "## Answer Here (don't run this cell)\n",
    "'top1m.take(50)' is more efficient compared to 'top1m.collect()[0:50]', because when a 'collect' operation is issued on a RDD, the whole dataset is copied to the driver, i.e. the master node (a memory exception will be thrown if the dataset is too large to fit in memory); While a 'take' operation can be used to retrieve only a limited number of elements instead, which is more efficient."
   ]
  },
  {
   "cell_type": "markdown",
   "metadata": {},
   "source": [
    "When you finish this problem, click on the File -> 'Save and Checkpoint' in the menu bar to make sure that the latest version of the workbook file is saved. Also, before you close this notebook and move on, make sure you disconnect your SparkContext, otherwise you will not be able to re-allocate resources. Remember, you will commit the .ipynb file to the repository for submission (in the master node terminal.)"
   ]
  },
  {
   "cell_type": "code",
   "execution_count": 4,
   "metadata": {},
   "outputs": [],
   "source": [
    "sc.stop()"
   ]
  }
 ],
 "metadata": {
  "kernelspec": {
   "display_name": "Python 2",
   "language": "python",
   "name": "python2"
  },
  "language_info": {
   "codemirror_mode": {
    "name": "ipython",
    "version": 2
   },
   "file_extension": ".py",
   "mimetype": "text/x-python",
   "name": "python",
   "nbconvert_exporter": "python",
   "pygments_lexer": "ipython2",
   "version": "2.7.13"
  }
 },
 "nbformat": 4,
 "nbformat_minor": 2
}
